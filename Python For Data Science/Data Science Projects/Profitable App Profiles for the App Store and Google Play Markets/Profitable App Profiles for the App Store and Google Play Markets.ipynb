{
 "cells": [
  {
   "cell_type": "markdown",
   "metadata": {
    "collapsed": true
   },
   "source": [
    "# Guided Project: Profitable App Profiles for the App Store and Google Play Markets\n",
    "\n",
    "**The project is about investigating what type of apps are likely to attract more users**\n",
    "\n",
    "** Our goal is to analyze data to help our developers understand this. **"
   ]
  },
  {
   "cell_type": "code",
   "execution_count": 1,
   "metadata": {
    "collapsed": false
   },
   "outputs": [],
   "source": [
    "google_open = open('googleplaystore.csv')\n",
    "applestore_open = open('AppleStore.csv')\n",
    "from csv import reader"
   ]
  },
  {
   "cell_type": "code",
   "execution_count": 2,
   "metadata": {
    "collapsed": false
   },
   "outputs": [],
   "source": [
    "read_google = reader(google_open)\n",
    "read_apple = reader(applestore_open)"
   ]
  },
  {
   "cell_type": "code",
   "execution_count": 3,
   "metadata": {
    "collapsed": true
   },
   "outputs": [],
   "source": [
    "google_list = list(read_google)\n",
    "apple_list = list(read_apple)"
   ]
  },
  {
   "cell_type": "code",
   "execution_count": 4,
   "metadata": {
    "collapsed": true
   },
   "outputs": [],
   "source": [
    "def explore_data(dataset, start, end, rows_and_columns=False):\n",
    "    dataset_slice = dataset[start:end]\n",
    "    for row in dataset_slice:\n",
    "        print(row)\n",
    "        print('\\n')\n",
    "    if rows_and_columns:\n",
    "        print('Number of rows:', len(dataset))\n",
    "        print('Number of columns:', len(dataset[0]))"
   ]
  },
  {
   "cell_type": "code",
   "execution_count": 5,
   "metadata": {
    "collapsed": false
   },
   "outputs": [
    {
     "name": "stdout",
     "output_type": "stream",
     "text": [
      "['id', 'track_name', 'size_bytes', 'currency', 'price', 'rating_count_tot', 'rating_count_ver', 'user_rating', 'user_rating_ver', 'ver', 'cont_rating', 'prime_genre', 'sup_devices.num', 'ipadSc_urls.num', 'lang.num', 'vpp_lic']\n",
      "\n",
      "\n",
      "['284882215', 'Facebook', '389879808', 'USD', '0.0', '2974676', '212', '3.5', '3.5', '95.0', '4+', 'Social Networking', '37', '1', '29', '1']\n",
      "\n",
      "\n",
      "Number of rows: 7198\n",
      "Number of columns: 16\n"
     ]
    }
   ],
   "source": [
    "explore_data(apple_list,0,2,True)"
   ]
  },
  {
   "cell_type": "markdown",
   "metadata": {},
   "source": [
    "In our analysis, we will use:\n",
    "* track_name\n",
    "* size_bytes\n",
    "* prime_genre\n",
    "* cont_rating\n",
    "* price\n",
    "* currency\n",
    "* rating_count_tot"
   ]
  },
  {
   "cell_type": "code",
   "execution_count": 6,
   "metadata": {
    "collapsed": false
   },
   "outputs": [
    {
     "name": "stdout",
     "output_type": "stream",
     "text": [
      "['App', 'Category', 'Rating', 'Reviews', 'Size', 'Installs', 'Type', 'Price', 'Content Rating', 'Genres', 'Last Updated', 'Current Ver', 'Android Ver']\n",
      "\n",
      "\n",
      "['Photo Editor & Candy Camera & Grid & ScrapBook', 'ART_AND_DESIGN', '4.1', '159', '19M', '10,000+', 'Free', '0', 'Everyone', 'Art & Design', 'January 7, 2018', '1.0.0', '4.0.3 and up']\n",
      "\n",
      "\n"
     ]
    }
   ],
   "source": [
    "explore_data(google_list, 0, 2, False)"
   ]
  },
  {
   "cell_type": "markdown",
   "metadata": {},
   "source": [
    "The column to identify in our analysis are:\n",
    "* App\n",
    "* Category\n",
    "* Reviews\n",
    "* Size\n",
    "* Installs\n",
    "* Type\n",
    "* Genres"
   ]
  },
  {
   "cell_type": "code",
   "execution_count": 7,
   "metadata": {
    "collapsed": false
   },
   "outputs": [
    {
     "name": "stdout",
     "output_type": "stream",
     "text": [
      "['Life Made WI-Fi Touchscreen Photo Frame', '1.9', '19', '3.0M', '1,000+', 'Free', '0', 'Everyone', '', 'February 11, 2018', '1.0.19', '4.0 and up']\n",
      "\n",
      "\n"
     ]
    }
   ],
   "source": [
    "explore_data(google_list,10473,10474)"
   ]
  },
  {
   "cell_type": "markdown",
   "metadata": {},
   "source": [
    "Here, for cleaning data, we found a shifted column where the Category column is deleted, and other columns afterwards are shifted to the left. We detected these column and deleted it."
   ]
  },
  {
   "cell_type": "code",
   "execution_count": 8,
   "metadata": {
    "collapsed": true
   },
   "outputs": [],
   "source": [
    "del google_list[10473]"
   ]
  },
  {
   "cell_type": "markdown",
   "metadata": {},
   "source": [
    "Now, we detect and clean the duplicates with the function above. The procedure to find duplicates is to check whether an entry has the same name with other or not. "
   ]
  },
  {
   "cell_type": "code",
   "execution_count": 9,
   "metadata": {
    "collapsed": false
   },
   "outputs": [],
   "source": [
    "def clean_duplicates(dataset,indexOfname):\n",
    "    count = 0;\n",
    "    names = []\n",
    "    newset = []\n",
    "    for x in dataset[1:]:\n",
    "        name = x[indexOfname]\n",
    "        if name in names:\n",
    "            count += 1\n",
    "        else:\n",
    "            names.append(name)\n",
    "            newset.append(x)\n",
    "    print(\"Duplicates are omitted\")\n",
    "    print(\"Number of duplicates found: \" + str(count))\n",
    "    return newset"
   ]
  },
  {
   "cell_type": "code",
   "execution_count": 10,
   "metadata": {
    "collapsed": false
   },
   "outputs": [
    {
     "name": "stdout",
     "output_type": "stream",
     "text": [
      "Duplicates are omitted\n",
      "Number of duplicates found: 1181\n"
     ]
    }
   ],
   "source": [
    "googleRemovedDuplicates = clean_duplicates(google_list,0)"
   ]
  },
  {
   "cell_type": "code",
   "execution_count": 11,
   "metadata": {
    "collapsed": false
   },
   "outputs": [
    {
     "name": "stdout",
     "output_type": "stream",
     "text": [
      "Duplicates are omitted\n",
      "Number of duplicates found: 2\n"
     ]
    }
   ],
   "source": [
    "appleRemovedDuplicates = clean_duplicates(apple_list,1)"
   ]
  },
  {
   "cell_type": "markdown",
   "metadata": {},
   "source": [
    "The current length of google_list:"
   ]
  },
  {
   "cell_type": "code",
   "execution_count": 12,
   "metadata": {
    "collapsed": false
   },
   "outputs": [
    {
     "data": {
      "text/plain": [
       "9659"
      ]
     },
     "execution_count": 12,
     "metadata": {},
     "output_type": "execute_result"
    }
   ],
   "source": [
    "len(googleRemovedDuplicates)"
   ]
  },
  {
   "cell_type": "markdown",
   "metadata": {},
   "source": [
    "The current length of apple_list"
   ]
  },
  {
   "cell_type": "code",
   "execution_count": 13,
   "metadata": {
    "collapsed": false
   },
   "outputs": [
    {
     "data": {
      "text/plain": [
       "7195"
      ]
     },
     "execution_count": 13,
     "metadata": {},
     "output_type": "execute_result"
    }
   ],
   "source": [
    "len(appleRemovedDuplicates)"
   ]
  },
  {
   "cell_type": "markdown",
   "metadata": {},
   "source": [
    "Now, we will create a dictionary where we display the names of the apps with their maximum number of reviews:"
   ]
  },
  {
   "cell_type": "code",
   "execution_count": 14,
   "metadata": {
    "collapsed": true
   },
   "outputs": [],
   "source": [
    "def review_dict(dataset,indexOfname,indexOfmaxReviews):\n",
    "    set = {}\n",
    "    for x in dataset:\n",
    "        name = x[indexOfname]\n",
    "        n_reviews = float(x[indexOfmaxReviews])\n",
    "        set[name] = n_reviews\n",
    "    return set"
   ]
  },
  {
   "cell_type": "code",
   "execution_count": 15,
   "metadata": {
    "collapsed": false
   },
   "outputs": [],
   "source": [
    "reviews_max = review_dict(googleRemovedDuplicates, 0, 3)"
   ]
  },
  {
   "cell_type": "code",
   "execution_count": 16,
   "metadata": {
    "collapsed": false
   },
   "outputs": [
    {
     "data": {
      "text/plain": [
       "9659"
      ]
     },
     "execution_count": 16,
     "metadata": {},
     "output_type": "execute_result"
    }
   ],
   "source": [
    "len(reviews_max)"
   ]
  },
  {
   "cell_type": "markdown",
   "metadata": {},
   "source": [
    "We want to reach English customers, so we want to eliminate apps that have non-English characters. We have a procedure that in case the app name has allowable characters such as emojis etc, we will allow up to three characters. The function above checks if the given string has a non-English character or not based on this procedure:"
   ]
  },
  {
   "cell_type": "code",
   "execution_count": 17,
   "metadata": {
    "collapsed": true
   },
   "outputs": [],
   "source": [
    "def isinEnglish(string):\n",
    "    isEnglish = True\n",
    "    count = 0\n",
    "    for x in string:\n",
    "        if ord(x) > 127:\n",
    "            count += 1\n",
    "            if count > 3:\n",
    "                isEnglish = False\n",
    "                break\n",
    "    return isEnglish"
   ]
  },
  {
   "cell_type": "markdown",
   "metadata": {},
   "source": [
    "Now check if the function works correctly by examining a few samples:"
   ]
  },
  {
   "cell_type": "code",
   "execution_count": 18,
   "metadata": {
    "collapsed": false
   },
   "outputs": [
    {
     "data": {
      "text/plain": [
       "True"
      ]
     },
     "execution_count": 18,
     "metadata": {},
     "output_type": "execute_result"
    }
   ],
   "source": [
    "isinEnglish('Instagram')"
   ]
  },
  {
   "cell_type": "code",
   "execution_count": 19,
   "metadata": {
    "collapsed": false
   },
   "outputs": [
    {
     "data": {
      "text/plain": [
       "False"
      ]
     },
     "execution_count": 19,
     "metadata": {},
     "output_type": "execute_result"
    }
   ],
   "source": [
    "isinEnglish('爱奇艺PPS -《欢乐颂2》电视剧热播')"
   ]
  },
  {
   "cell_type": "code",
   "execution_count": 20,
   "metadata": {
    "collapsed": false
   },
   "outputs": [
    {
     "data": {
      "text/plain": [
       "True"
      ]
     },
     "execution_count": 20,
     "metadata": {},
     "output_type": "execute_result"
    }
   ],
   "source": [
    "isinEnglish('Docs To Go™ Free Office Suite')"
   ]
  },
  {
   "cell_type": "code",
   "execution_count": 21,
   "metadata": {
    "collapsed": false
   },
   "outputs": [
    {
     "data": {
      "text/plain": [
       "True"
      ]
     },
     "execution_count": 21,
     "metadata": {},
     "output_type": "execute_result"
    }
   ],
   "source": [
    "isinEnglish('Instachat 😜')"
   ]
  },
  {
   "cell_type": "code",
   "execution_count": 22,
   "metadata": {
    "collapsed": true
   },
   "outputs": [],
   "source": [
    "def filterDataEnglish(dataset,indexOfname):\n",
    "    newset = []\n",
    "    count = 0\n",
    "    for x in dataset:\n",
    "        name = x[indexOfname]\n",
    "        if isinEnglish(name):\n",
    "            newset.append(x)\n",
    "        else:\n",
    "            count +=1\n",
    "    print(str(count) + ' of apps were not in English, deleted.')\n",
    "    print('There are ' + str(len(newset)) + ' apps remaining')\n",
    "    return newset"
   ]
  },
  {
   "cell_type": "code",
   "execution_count": 23,
   "metadata": {
    "collapsed": false
   },
   "outputs": [
    {
     "name": "stdout",
     "output_type": "stream",
     "text": [
      "45 of apps were not in English, deleted.\n",
      "There are 9614 apps remaining\n"
     ]
    }
   ],
   "source": [
    "googleEngFilt = filterDataEnglish(googleRemovedDuplicates,0)"
   ]
  },
  {
   "cell_type": "code",
   "execution_count": 24,
   "metadata": {
    "collapsed": false
   },
   "outputs": [
    {
     "name": "stdout",
     "output_type": "stream",
     "text": [
      "1014 of apps were not in English, deleted.\n",
      "There are 6181 apps remaining\n"
     ]
    }
   ],
   "source": [
    "appleEngFilt = filterDataEnglish(appleRemovedDuplicates,1)"
   ]
  },
  {
   "cell_type": "markdown",
   "metadata": {},
   "source": [
    "As we mentioned earlier, we want to analyze apps that is free to download and install, so that we should eliminate non-free apps. Below, we will construct a function that collects only free-apps:"
   ]
  },
  {
   "cell_type": "code",
   "execution_count": 25,
   "metadata": {
    "collapsed": true
   },
   "outputs": [],
   "source": [
    "def collectFree(dataset,indexOfPrice,stringFree):\n",
    "    newset = []\n",
    "    count = 0\n",
    "    for x in dataset:\n",
    "        price = x[indexOfPrice]\n",
    "        if price == stringFree:\n",
    "            newset.append(x)\n",
    "        else:\n",
    "            count += 1\n",
    "    print(str(count) + \" non-free apps are eliminated\")\n",
    "    print(\"There are \" + str(len(newset)) + \" apps remaining\")\n",
    "    return newset"
   ]
  },
  {
   "cell_type": "code",
   "execution_count": 26,
   "metadata": {
    "collapsed": false
   },
   "outputs": [
    {
     "name": "stdout",
     "output_type": "stream",
     "text": [
      "752 non-free apps are eliminated\n",
      "There are 8862 apps remaining\n"
     ]
    }
   ],
   "source": [
    "google_free = collectFree(googleEngFilt,7,'0')"
   ]
  },
  {
   "cell_type": "code",
   "execution_count": 27,
   "metadata": {
    "collapsed": false
   },
   "outputs": [
    {
     "name": "stdout",
     "output_type": "stream",
     "text": [
      "2961 non-free apps are eliminated\n",
      "There are 3220 apps remaining\n"
     ]
    }
   ],
   "source": [
    "apple_free = collectFree(appleEngFilt, 4, '0.0')"
   ]
  },
  {
   "cell_type": "markdown",
   "metadata": {},
   "source": [
    "We want to find properties of apps that can attract more customers, because we are planning to build apps that have a revenue from in-app ads. To attract more customers, we should present apps that fits both the App Store and Google Play.\n",
    "Our Validation strategy for an app idea is comprised of three steps:\n",
    "1. Build a minimal Android version of the app, and add it to Google Play.\n",
    "2. If the app has a good response from users, we develop it further.\n",
    "3. If the app is profitable after six months, we build an iOS version of the app and add it to the App Store.\n",
    "\n",
    "We will begin by getting a sense of what are the most common genres for each market, and build frequency tables for a few colums in our data sets."
   ]
  },
  {
   "cell_type": "code",
   "execution_count": 28,
   "metadata": {
    "collapsed": true
   },
   "outputs": [],
   "source": [
    "def freq_table(dataset,index): # A function to extract freq. table\n",
    "    table = {}\n",
    "    for x in dataset:\n",
    "        if x[index] in table:\n",
    "            table[x[index]] += 1\n",
    "        else:\n",
    "            table[x[index]] = 1\n",
    "    return table"
   ]
  },
  {
   "cell_type": "code",
   "execution_count": 29,
   "metadata": {
    "collapsed": true
   },
   "outputs": [],
   "source": [
    "def display_table(dataset,index):\n",
    "    table = freq_table(dataset,index)\n",
    "    list = []\n",
    "    for x in table:\n",
    "        addtolist = (table[x],x)\n",
    "        list.append(addtolist)\n",
    "    sortedlist = sorted(list, reverse = True)\n",
    "    for x in sortedlist:\n",
    "        print(x[1] + ' : ' + str(x[0]))"
   ]
  },
  {
   "cell_type": "code",
   "execution_count": 30,
   "metadata": {
    "collapsed": false
   },
   "outputs": [
    {
     "name": "stdout",
     "output_type": "stream",
     "text": [
      "Tools : 747\n",
      "Entertainment : 538\n",
      "Education : 474\n",
      "Business : 407\n",
      "Productivity : 345\n",
      "Lifestyle : 345\n",
      "Finance : 328\n",
      "Medical : 312\n",
      "Sports : 307\n",
      "Personalization : 294\n",
      "Communication : 287\n",
      "Action : 275\n",
      "Health & Fitness : 273\n",
      "Photography : 261\n",
      "News & Magazines : 248\n",
      "Social : 236\n",
      "Travel & Local : 206\n",
      "Shopping : 199\n",
      "Books & Reference : 190\n",
      "Simulation : 181\n",
      "Dating : 165\n",
      "Arcade : 164\n",
      "Video Players & Editors : 157\n",
      "Casual : 156\n",
      "Maps & Navigation : 124\n",
      "Food & Drink : 110\n",
      "Puzzle : 100\n",
      "Racing : 88\n",
      "Role Playing : 83\n",
      "Libraries & Demo : 83\n",
      "Auto & Vehicles : 82\n",
      "Strategy : 81\n",
      "House & Home : 74\n",
      "Weather : 71\n",
      "Events : 63\n",
      "Adventure : 60\n",
      "Comics : 54\n",
      "Beauty : 53\n",
      "Art & Design : 53\n",
      "Parenting : 44\n",
      "Card : 40\n",
      "Casino : 38\n",
      "Trivia : 37\n",
      "Educational;Education : 35\n",
      "Educational : 33\n",
      "Board : 33\n",
      "Education;Education : 30\n",
      "Word : 23\n",
      "Casual;Pretend Play : 21\n",
      "Music : 18\n",
      "Racing;Action & Adventure : 15\n",
      "Puzzle;Brain Games : 15\n",
      "Entertainment;Music & Video : 15\n",
      "Casual;Brain Games : 12\n",
      "Casual;Action & Adventure : 12\n",
      "Arcade;Action & Adventure : 11\n",
      "Action;Action & Adventure : 9\n",
      "Educational;Pretend Play : 8\n",
      "Board;Brain Games : 8\n",
      "Simulation;Action & Adventure : 7\n",
      "Parenting;Education : 7\n",
      "Entertainment;Brain Games : 7\n",
      "Parenting;Music & Video : 6\n",
      "Educational;Brain Games : 6\n",
      "Casual;Creativity : 6\n",
      "Art & Design;Creativity : 6\n",
      "Education;Pretend Play : 5\n",
      "Role Playing;Pretend Play : 4\n",
      "Education;Creativity : 4\n",
      "Role Playing;Action & Adventure : 3\n",
      "Puzzle;Action & Adventure : 3\n",
      "Entertainment;Creativity : 3\n",
      "Entertainment;Action & Adventure : 3\n",
      "Educational;Creativity : 3\n",
      "Educational;Action & Adventure : 3\n",
      "Education;Music & Video : 3\n",
      "Education;Brain Games : 3\n",
      "Education;Action & Adventure : 3\n",
      "Adventure;Action & Adventure : 3\n",
      "Video Players & Editors;Music & Video : 2\n",
      "Sports;Action & Adventure : 2\n",
      "Simulation;Pretend Play : 2\n",
      "Puzzle;Creativity : 2\n",
      "Music;Music & Video : 2\n",
      "Entertainment;Pretend Play : 2\n",
      "Casual;Education : 2\n",
      "Board;Action & Adventure : 2\n",
      "Video Players & Editors;Creativity : 1\n",
      "Trivia;Education : 1\n",
      "Travel & Local;Action & Adventure : 1\n",
      "Tools;Education : 1\n",
      "Strategy;Education : 1\n",
      "Strategy;Creativity : 1\n",
      "Strategy;Action & Adventure : 1\n",
      "Simulation;Education : 1\n",
      "Role Playing;Brain Games : 1\n",
      "Racing;Pretend Play : 1\n",
      "Puzzle;Education : 1\n",
      "Parenting;Brain Games : 1\n",
      "Music & Audio;Music & Video : 1\n",
      "Lifestyle;Pretend Play : 1\n",
      "Lifestyle;Education : 1\n",
      "Health & Fitness;Education : 1\n",
      "Health & Fitness;Action & Adventure : 1\n",
      "Entertainment;Education : 1\n",
      "Communication;Creativity : 1\n",
      "Comics;Creativity : 1\n",
      "Casual;Music & Video : 1\n",
      "Card;Action & Adventure : 1\n",
      "Books & Reference;Education : 1\n",
      "Art & Design;Pretend Play : 1\n",
      "Art & Design;Action & Adventure : 1\n",
      "Arcade;Pretend Play : 1\n",
      "Adventure;Education : 1\n"
     ]
    }
   ],
   "source": [
    "display_table(google_free,9) # For genres"
   ]
  },
  {
   "cell_type": "code",
   "execution_count": 31,
   "metadata": {
    "collapsed": false
   },
   "outputs": [
    {
     "name": "stdout",
     "output_type": "stream",
     "text": [
      "FAMILY : 1635\n",
      "GAME : 875\n",
      "TOOLS : 748\n",
      "BUSINESS : 407\n",
      "LIFESTYLE : 346\n",
      "PRODUCTIVITY : 345\n",
      "FINANCE : 328\n",
      "MEDICAL : 312\n",
      "SPORTS : 301\n",
      "PERSONALIZATION : 294\n",
      "COMMUNICATION : 287\n",
      "HEALTH_AND_FITNESS : 273\n",
      "PHOTOGRAPHY : 261\n",
      "NEWS_AND_MAGAZINES : 248\n",
      "SOCIAL : 236\n",
      "TRAVEL_AND_LOCAL : 207\n",
      "SHOPPING : 199\n",
      "BOOKS_AND_REFERENCE : 190\n",
      "DATING : 165\n",
      "VIDEO_PLAYERS : 158\n",
      "MAPS_AND_NAVIGATION : 124\n",
      "EDUCATION : 114\n",
      "FOOD_AND_DRINK : 110\n",
      "ENTERTAINMENT : 100\n",
      "LIBRARIES_AND_DEMO : 83\n",
      "AUTO_AND_VEHICLES : 82\n",
      "HOUSE_AND_HOME : 74\n",
      "WEATHER : 71\n",
      "EVENTS : 63\n",
      "ART_AND_DESIGN : 60\n",
      "PARENTING : 58\n",
      "COMICS : 55\n",
      "BEAUTY : 53\n"
     ]
    }
   ],
   "source": [
    "display_table(google_free,1) # Category"
   ]
  },
  {
   "cell_type": "code",
   "execution_count": 32,
   "metadata": {
    "collapsed": false,
    "scrolled": true
   },
   "outputs": [
    {
     "name": "stdout",
     "output_type": "stream",
     "text": [
      "Games : 1872\n",
      "Entertainment : 254\n",
      "Photo & Video : 160\n",
      "Education : 118\n",
      "Social Networking : 106\n",
      "Shopping : 84\n",
      "Utilities : 81\n",
      "Sports : 69\n",
      "Music : 66\n",
      "Health & Fitness : 65\n",
      "Productivity : 56\n",
      "Lifestyle : 51\n",
      "News : 43\n",
      "Travel : 40\n",
      "Finance : 36\n",
      "Weather : 28\n",
      "Food & Drink : 26\n",
      "Reference : 18\n",
      "Business : 17\n",
      "Book : 14\n",
      "Navigation : 6\n",
      "Medical : 6\n",
      "Catalogs : 4\n"
     ]
    }
   ],
   "source": [
    "display_table(apple_free,-5) # prime_genre"
   ]
  },
  {
   "cell_type": "markdown",
   "metadata": {},
   "source": [
    "Now, we want to analyze the total rating counts of genres to see a more precise description which are more popular:"
   ]
  },
  {
   "cell_type": "code",
   "execution_count": 33,
   "metadata": {
    "collapsed": true
   },
   "outputs": [],
   "source": [
    "prime_genre = freq_table(apple_free, -5)"
   ]
  },
  {
   "cell_type": "code",
   "execution_count": 34,
   "metadata": {
    "collapsed": false,
    "scrolled": false
   },
   "outputs": [
    {
     "name": "stdout",
     "output_type": "stream",
     "text": [
      "Navigation : 86090.33333333333\n",
      "Reference : 74942.11111111111\n",
      "Social Networking : 71548.34905660378\n",
      "Music : 57326.530303030304\n",
      "Weather : 52279.892857142855\n",
      "Book : 39758.5\n",
      "Food & Drink : 33333.92307692308\n",
      "Finance : 31467.944444444445\n",
      "Photo & Video : 28441.54375\n",
      "Travel : 28243.8\n",
      "Shopping : 26919.690476190477\n",
      "Health & Fitness : 23298.015384615384\n",
      "Sports : 23008.898550724636\n",
      "Games : 22812.92467948718\n",
      "News : 21248.023255813954\n",
      "Productivity : 21028.410714285714\n",
      "Utilities : 18684.456790123455\n",
      "Lifestyle : 16485.764705882353\n",
      "Entertainment : 14029.830708661417\n",
      "Business : 7491.117647058823\n",
      "Education : 7003.983050847458\n",
      "Catalogs : 4004.0\n",
      "Medical : 612.0\n"
     ]
    }
   ],
   "source": [
    "tuples = []\n",
    "for genre in prime_genre: # For all genres in the apple store\n",
    "    total = 0\n",
    "    len_genre = 0\n",
    "    for x in apple_free: # Find the average total ratings for a typical genre\n",
    "        genre_app = x[-5]\n",
    "        if genre_app == genre:\n",
    "            total += float(x[5])\n",
    "            len_genre += 1\n",
    "    add_to_tupples = (total/len_genre,genre) \n",
    "    tuples.append(add_to_tupples)\n",
    "sorted_tuples = sorted(tuples, reverse = True)\n",
    "for x in sorted_tuples: # Sort them in ascending order\n",
    "    print(x[1] + ' : ' + str(x[0]))"
   ]
  },
  {
   "cell_type": "markdown",
   "metadata": {},
   "source": [
    "Here we can see that the most ratings belongs to the apps in the Navigation Category. However, there are only 6 apps for this apps. If we would want to come up with at least one app profile recommendation, it could be Social Networking and Music genres, which have a good rank in both total ratings and number of apps."
   ]
  },
  {
   "cell_type": "code",
   "execution_count": 35,
   "metadata": {
    "collapsed": false
   },
   "outputs": [
    {
     "name": "stdout",
     "output_type": "stream",
     "text": [
      "1,000,000+ : 1579\n",
      "10,000,000+ : 1252\n",
      "100,000+ : 1169\n",
      "10,000+ : 1054\n",
      "1,000+ : 907\n",
      "5,000,000+ : 752\n",
      "100+ : 719\n",
      "500,000+ : 539\n",
      "50,000+ : 479\n",
      "5,000+ : 477\n",
      "100,000,000+ : 409\n",
      "10+ : 386\n",
      "500+ : 330\n",
      "50,000,000+ : 289\n",
      "50+ : 205\n",
      "5+ : 82\n",
      "500,000,000+ : 72\n",
      "1+ : 67\n",
      "1,000,000,000+ : 58\n",
      "0+ : 14\n",
      "Installs : 1\n",
      "0 : 1\n"
     ]
    }
   ],
   "source": [
    "display_table(google_list, 5)"
   ]
  },
  {
   "cell_type": "markdown",
   "metadata": {},
   "source": [
    "We found a shift in the insallments column as you can see here. We will now detect and delete it:"
   ]
  },
  {
   "cell_type": "code",
   "execution_count": 47,
   "metadata": {
    "collapsed": true
   },
   "outputs": [],
   "source": [
    "for x in google_list:\n",
    "    if x[5] == 'Installs':\n",
    "        del x"
   ]
  },
  {
   "cell_type": "markdown",
   "metadata": {},
   "source": [
    "Now check if we see the mistake again:"
   ]
  },
  {
   "cell_type": "code",
   "execution_count": 48,
   "metadata": {
    "collapsed": false
   },
   "outputs": [
    {
     "name": "stdout",
     "output_type": "stream",
     "text": [
      "1,000,000+ : 1579\n",
      "10,000,000+ : 1252\n",
      "100,000+ : 1169\n",
      "10,000+ : 1054\n",
      "1,000+ : 907\n",
      "5,000,000+ : 752\n",
      "100+ : 719\n",
      "500,000+ : 539\n",
      "50,000+ : 479\n",
      "5,000+ : 477\n",
      "100,000,000+ : 409\n",
      "10+ : 386\n",
      "500+ : 330\n",
      "50,000,000+ : 289\n",
      "50+ : 205\n",
      "5+ : 82\n",
      "500,000,000+ : 72\n",
      "1+ : 67\n",
      "1,000,000,000+ : 58\n",
      "0+ : 14\n",
      "Installs : 1\n",
      "0 : 1\n"
     ]
    }
   ],
   "source": [
    "display_table(google_list, 5)"
   ]
  },
  {
   "cell_type": "code",
   "execution_count": 38,
   "metadata": {
    "collapsed": false
   },
   "outputs": [],
   "source": [
    "cat_freq = freq_table(google_free,1)"
   ]
  },
  {
   "cell_type": "code",
   "execution_count": 39,
   "metadata": {
    "collapsed": true
   },
   "outputs": [],
   "source": [
    "google_genre = freq_table(google_free,9)"
   ]
  },
  {
   "cell_type": "code",
   "execution_count": 46,
   "metadata": {
    "collapsed": false
   },
   "outputs": [
    {
     "name": "stdout",
     "output_type": "stream",
     "text": [
      "Communication : 38456119.167247385\n",
      "Adventure;Action & Adventure : 35333333.333333336\n",
      "Video Players & Editors : 24947335.796178345\n",
      "Social : 23253652.127118643\n",
      "Arcade : 22888365.48780488\n",
      "Casual : 19569221.602564104\n",
      "Puzzle;Action & Adventure : 18366666.666666668\n",
      "Photography : 17805627.643678162\n",
      "Educational;Action & Adventure : 17016666.666666668\n",
      "Productivity : 16787331.344927534\n",
      "Racing : 15910645.681818182\n",
      "Travel & Local : 14051476.145631067\n",
      "Casual;Action & Adventure : 12916666.666666666\n",
      "Action : 12603588.872727273\n",
      "Strategy : 11199902.530864198\n",
      "Tools : 10696176.002677375\n",
      "Tools;Education : 10000000.0\n",
      "Role Playing;Brain Games : 10000000.0\n",
      "Lifestyle;Pretend Play : 10000000.0\n",
      "Casual;Music & Video : 10000000.0\n",
      "Card;Action & Adventure : 10000000.0\n",
      "Adventure;Education : 10000000.0\n",
      "News & Magazines : 9549178.467741935\n",
      "Music : 9445583.333333334\n",
      "Educational;Pretend Play : 9375000.0\n",
      "Puzzle;Brain Games : 9280666.666666666\n",
      "Racing;Action & Adventure : 8816666.666666666\n",
      "Books & Reference : 8767811.894736841\n",
      "Puzzle : 8302861.91\n",
      "Video Players & Editors;Music & Video : 7500000.0\n",
      "Word : 7355328.260869565\n",
      "Shopping : 7036877.311557789\n",
      "Role Playing;Action & Adventure : 7000000.0\n",
      "Casual;Pretend Play : 6957142.857142857\n",
      "Entertainment;Music & Video : 6413333.333333333\n",
      "Action;Action & Adventure : 5888888.888888889\n",
      "Entertainment : 5602792.775092937\n",
      "Education;Brain Games : 5333333.333333333\n",
      "Casual;Creativity : 5333333.333333333\n",
      "Role Playing;Pretend Play : 5275000.0\n",
      "Personalization : 5201482.6122448975\n",
      "Weather : 5074486.197183099\n",
      "Sports;Action & Adventure : 5050000.0\n",
      "Music;Music & Video : 5050000.0\n",
      "Video Players & Editors;Creativity : 5000000.0\n",
      "Adventure : 4922785.333333333\n",
      "Simulation;Action & Adventure : 4857142.857142857\n",
      "Education;Education : 4759517.0\n",
      "Sports : 4596842.615635179\n",
      "Educational;Brain Games : 4433333.333333333\n",
      "Health & Fitness : 4188821.9853479853\n",
      "Maps & Navigation : 4056941.7741935486\n",
      "Entertainment;Creativity : 4000000.0\n",
      "Role Playing : 3965645.421686747\n",
      "Card : 3815462.5\n",
      "Trivia : 3475712.7027027025\n",
      "Simulation : 3475484.08839779\n",
      "Casino : 3427910.5263157897\n",
      "Board : 3388276.0606060605\n",
      "Entertainment;Brain Games : 3314285.714285714\n",
      "Arcade;Action & Adventure : 3190909.1818181816\n",
      "Entertainment;Pretend Play : 3000000.0\n",
      "Board;Action & Adventure : 3000000.0\n",
      "Education;Creativity : 2875000.0\n",
      "Entertainment;Action & Adventure : 2333333.3333333335\n",
      "Educational;Creativity : 2333333.3333333335\n",
      "Art & Design : 2122850.9433962265\n",
      "Education;Music & Video : 2033333.3333333333\n",
      "Food & Drink : 1924897.7363636363\n",
      "Education;Pretend Play : 1800000.0\n",
      "Educational;Education : 1737143.142857143\n",
      "Business : 1712290.1474201474\n",
      "Casual;Brain Games : 1425916.6666666667\n",
      "Lifestyle : 1412998.3449275363\n",
      "Finance : 1387692.475609756\n",
      "House & Home : 1313681.9054054054\n",
      "Parenting;Music & Video : 1118333.3333333333\n",
      "Strategy;Creativity : 1000000.0\n",
      "Strategy;Action & Adventure : 1000000.0\n",
      "Racing;Pretend Play : 1000000.0\n",
      "Parenting;Brain Games : 1000000.0\n",
      "Health & Fitness;Action & Adventure : 1000000.0\n",
      "Entertainment;Education : 1000000.0\n",
      "Education;Action & Adventure : 1000000.0\n",
      "Casual;Education : 1000000.0\n",
      "Arcade;Pretend Play : 1000000.0\n",
      "Board;Brain Games : 981250.0\n",
      "Dating : 854028.8303030303\n",
      "Comics : 831873.1481481482\n",
      "Puzzle;Creativity : 750000.0\n",
      "Auto & Vehicles : 647317.8170731707\n",
      "Libraries & Demo : 638503.734939759\n",
      "Simulation;Pretend Play : 550000.0\n",
      "Education : 540691.7721518987\n",
      "Beauty : 513151.88679245283\n",
      "Strategy;Education : 500000.0\n",
      "Music & Audio;Music & Video : 500000.0\n",
      "Communication;Creativity : 500000.0\n",
      "Art & Design;Pretend Play : 500000.0\n",
      "Parenting : 467977.5\n",
      "Parenting;Education : 452857.14285714284\n",
      "Educational : 411184.8484848485\n",
      "Art & Design;Creativity : 285000.0\n",
      "Events : 253542.22222222222\n",
      "Medical : 120616.48717948717\n",
      "Travel & Local;Action & Adventure : 100000.0\n",
      "Puzzle;Education : 100000.0\n",
      "Lifestyle;Education : 100000.0\n",
      "Health & Fitness;Education : 100000.0\n",
      "Art & Design;Action & Adventure : 100000.0\n",
      "Comics;Creativity : 50000.0\n",
      "Books & Reference;Education : 1000.0\n",
      "Simulation;Education : 500.0\n",
      "Trivia;Education : 100.0\n"
     ]
    }
   ],
   "source": [
    "tuples = []\n",
    "for genres in google_genre:\n",
    "    total = 0\n",
    "    len_category = 0\n",
    "    for x in google_free:\n",
    "        category_app = x[9]\n",
    "        if category_app == genres:\n",
    "            installs = x[5]\n",
    "            installs = installs.replace('+','')\n",
    "            installs = installs.replace(',','')\n",
    "            total += float(installs)\n",
    "            len_category += 1\n",
    "    add_to_tuples = (total/len_category,genres)\n",
    "    tuples.append(add_to_tuples)\n",
    "sortedtuples = sorted(tuples, reverse = True)\n",
    "for x in sortedtuples:\n",
    "    print(x[1] + \" : \" + str(x[0]))"
   ]
  },
  {
   "cell_type": "markdown",
   "metadata": {},
   "source": [
    "For Google Play Store, the apps showing potential for being profitable on both the App Store and Google Play are the apps being considered in *Communications* and *Social* in Google Play and *Social&Networking* in Apple Store, which are eventually the same. Also we should note that apps in the general category of *Video* have potential profitability, too."
   ]
  }
 ],
 "metadata": {
  "kernelspec": {
   "display_name": "Python 3",
   "language": "python",
   "name": "python3"
  },
  "language_info": {
   "codemirror_mode": {
    "name": "ipython",
    "version": 3
   },
   "file_extension": ".py",
   "mimetype": "text/x-python",
   "name": "python",
   "nbconvert_exporter": "python",
   "pygments_lexer": "ipython3",
   "version": "3.4.3"
  }
 },
 "nbformat": 4,
 "nbformat_minor": 2
}
