{
 "cells": [
  {
   "cell_type": "code",
   "execution_count": 4,
   "metadata": {},
   "outputs": [
    {
     "data": {
      "text/markdown": [
       "\\begin{pmatrix}(1+0j)&0j&0j&0j&0j&0j&0j&0j\\\\0j&(0.9999999999999998+0j)&0j&0j&0j&0j&0j&0j\\\\0j&0j&(1+0j)&0j&0j&0j&0j&0j\\\\0j&0j&0j&(0.9999999999999998+0j)&0j&0j&0j&0j\\\\0j&0j&0j&0j&(0.9999999999999998+0j)&0j&0j&0j\\\\0j&0j&0j&0j&0j&0.9999999999999998j&0j&0j\\\\0j&0j&0j&0j&0j&0j&(0.9999999999999998+0j)&0j\\\\0j&0j&0j&0j&0j&0j&0j&0.9999999999999998j\\end{pmatrix}"
      ],
      "text/plain": [
       "<IPython.core.display.Markdown object>"
      ]
     },
     "metadata": {},
     "output_type": "display_data"
    }
   ],
   "source": [
    "from qiskit import *\n",
    "from qiskit.tools.visualization import plot_histogram\n",
    "import math\n",
    "import numpy as np\n",
    "pi = np.pi\n",
    "\n",
    "n = 2\n",
    "circuit = QuantumCircuit(n+1,n)\n",
    "circuit.t(0)\n",
    "circuit.t(n)\n",
    "circuit.cx(0,n)\n",
    "circuit.tdg(n)\n",
    "circuit.cx(0,n)\n",
    "\n",
    "\n",
    "\n",
    "backend = Aer.get_backend('unitary_simulator')\n",
    "\n",
    "# run the circuit to get the matrix\n",
    "gate = execute(circuit,backend).result().get_unitary()\n",
    "\n",
    "# now we use some fanciness to display it in latex\n",
    "from IPython.display import display, Markdown, Latex\n",
    "gate_latex = '\\\\begin{pmatrix}'\n",
    "for line in gate:\n",
    "    for element in line:\n",
    "        gate_latex += str(element) + '&'\n",
    "    gate_latex  = gate_latex[0:-1]\n",
    "    gate_latex +=  '\\\\\\\\'\n",
    "gate_latex  = gate_latex[0:-2]\n",
    "gate_latex += '\\end{pmatrix}'\n",
    "display(Markdown(gate_latex))"
   ]
  },
  {
   "cell_type": "code",
   "execution_count": null,
   "metadata": {},
   "outputs": [],
   "source": []
  }
 ],
 "metadata": {
  "kernelspec": {
   "display_name": "Python 3",
   "language": "python",
   "name": "python3"
  },
  "language_info": {
   "codemirror_mode": {
    "name": "ipython",
    "version": 3
   },
   "file_extension": ".py",
   "mimetype": "text/x-python",
   "name": "python",
   "nbconvert_exporter": "python",
   "pygments_lexer": "ipython3",
   "version": "3.7.3"
  }
 },
 "nbformat": 4,
 "nbformat_minor": 2
}
